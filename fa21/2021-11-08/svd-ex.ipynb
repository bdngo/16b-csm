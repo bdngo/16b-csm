{
 "cells": [
  {
   "cell_type": "code",
   "execution_count": null,
   "metadata": {},
   "outputs": [],
   "source": [
    "import numpy as np"
   ]
  },
  {
   "cell_type": "code",
   "execution_count": 12,
   "metadata": {},
   "outputs": [],
   "source": [
    "A = np.array([\n",
    "    [-1, 1, 5],\n",
    "    [3, 1, -1],\n",
    "    [2, -1, 4]\n",
    "])\n",
    "\n",
    "U, S, VT = np.linalg.svd(A)"
   ]
  },
  {
   "cell_type": "code",
   "execution_count": 13,
   "metadata": {},
   "outputs": [
    {
     "name": "stdout",
     "output_type": "stream",
     "text": [
      "U=array([[-0.77151675, -0.26726124, -0.57735027],\n",
      "       [ 0.15430335,  0.80178373, -0.57735027],\n",
      "       [-0.6172134 ,  0.53452248,  0.57735027]])\n",
      "S=array([6.4807407 , 3.74165739, 1.73205081])\n",
      "VT=array([[ 0.00000000e+00, -2.50001077e-16, -1.00000000e+00],\n",
      "       [ 1.00000000e+00,  0.00000000e+00,  0.00000000e+00],\n",
      "       [ 0.00000000e+00, -1.00000000e+00, -3.31484838e-18]])\n"
     ]
    }
   ],
   "source": [
    "print(f\"{U=}\")\n",
    "print(f\"{S=}\")\n",
    "print(f\"{VT=}\")"
   ]
  }
 ],
 "metadata": {
  "interpreter": {
   "hash": "927263bdb04ea84154b55e8a4b22070870b91b1193e47152ef2761c9623a4631"
  },
  "kernelspec": {
   "display_name": "Python 3.8.10 64-bit ('base': conda)",
   "language": "python",
   "name": "python3"
  },
  "language_info": {
   "codemirror_mode": {
    "name": "ipython",
    "version": 3
   },
   "file_extension": ".py",
   "mimetype": "text/x-python",
   "name": "python",
   "nbconvert_exporter": "python",
   "pygments_lexer": "ipython3",
   "version": "3.8.10"
  },
  "orig_nbformat": 4
 },
 "nbformat": 4,
 "nbformat_minor": 2
}
